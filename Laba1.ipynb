{
 "cells": [
  {
   "cell_type": "markdown",
   "metadata": {},
   "source": [
    "Практическая работа 1. Простейший скрипт Python\n",
    "Попов Антон Андреевич"
   ]
  },
  {
   "attachments": {
    "Снимок8.PNG": {
     "image/png": "[encoded data removed]"
    }
   },
   "cell_type": "markdown",
   "metadata": {},
   "source": [
    "Вариант 24 ![Снимок8.PNG](attachment:Снимок8.PNG)"
   ]
  },
  {
   "cell_type": "markdown",
   "metadata": {},
   "source": [
    "Проанализируем выражение и определим переменные, которые потребуются для выполнения задания.\n",
    " Независимые переменные: Z, z, X, x . Переменная, которая должна быть вычислена на основе независимых: Y "
   ]
  },
  {
   "cell_type": "code",
   "execution_count": 1,
   "metadata": {},
   "outputs": [
    {
     "name": "stdout",
     "output_type": "stream",
     "text": [
      "Z =  10 , type(Z) =  <class 'int'>\n",
      "z =  30.67 , type(z) =  <class 'float'>\n",
      "X =  5 , type(X) =  <class 'int'>\n",
      "x =  5 , type(x) =  <class 'int'>\n"
     ]
    }
   ],
   "source": [
    "Z=10\n",
    "z=30.67\n",
    "X=5\n",
    "x=5\n",
    "print(\"Z = \", Z, \", type(Z) = \", type(Z))\n",
    "print(\"z = \", z, \", type(z) = \", type(z))\n",
    "print(\"X = \", X, \", type(X) = \", type(X))\n",
    "print(\"x = \", x, \", type(x) = \", type(x))"
   ]
  },
  {
   "cell_type": "markdown",
   "metadata": {},
   "source": [
    "Z =  10 , type(x) =  <class 'int'>\n",
    "z =  30.67 , type(y) =  <class 'float'>\n",
    "X =  5 , type(k_to) =  <class 'int'>\n",
    "x =  5 , type(a) =  <class 'int'>"
   ]
  },
  {
   "cell_type": "code",
   "execution_count": 2,
   "metadata": {},
   "outputs": [
    {
     "name": "stdout",
     "output_type": "stream",
     "text": [
      "Y= 355.70000000000005\n",
      "Type of Y:  <class 'float'>\n"
     ]
    }
   ],
   "source": [
    "Y = Z * (z+x) + z/Z - ((z+Z) / (x+X))\n",
    "print('Y=',Y)\n",
    "print('Type of Y: ', type(Y))"
   ]
  },
  {
   "cell_type": "markdown",
   "metadata": {},
   "source": [
    "Y= 355.70000000000005\n",
    "Type of Y:  <class 'float'>"
   ]
  }
 ],
 "metadata": {
  "kernelspec": {
   "display_name": "Python 3",
   "language": "python",
   "name": "python3"
  },
  "language_info": {
   "codemirror_mode": {
    "name": "ipython",
    "version": 3
   },
   "file_extension": ".py",
   "mimetype": "text/x-python",
   "name": "python",
   "nbconvert_exporter": "python",
   "pygments_lexer": "ipython3",
   "version": "3.11.9"
  }
 },
 "nbformat": 4,
 "nbformat_minor": 2
}
