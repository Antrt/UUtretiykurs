{
 "cells": [
  {
   "cell_type": "markdown",
   "metadata": {},
   "source": [
    "Практическая работа 2. Основные конструкции языка\n",
    "Попов Антон\n",
    "Вариант 24\n",
    "Задание\n",
    "Напишите скрипт поиска чисел, кратных 2, но не кратных 4 в\n",
    "списке, состоящем из элементов произвольного типа. Необходимо\n",
    "вывести количество и максимальный из найденных элементов "
   ]
  },
  {
   "cell_type": "markdown",
   "metadata": {},
   "source": [
    "Попов Антон\n",
    "Вариант 24\n",
    "Задание"
   ]
  },
  {
   "cell_type": "markdown",
   "metadata": {},
   "source": [
    "Напишите скрипт поиска чисел, кратных 2, но не кратных 4 в\n",
    "списке, состоящем из элементов произвольного типа. Необходимо\n",
    "вывести количество и максимальный из найденных элементов "
   ]
  },
  {
   "cell_type": "code",
   "execution_count": 34,
   "metadata": {},
   "outputs": [
    {
     "name": "stdout",
     "output_type": "stream",
     "text": [
      "[2, 5, 10, 6]\n"
     ]
    }
   ],
   "source": [
    "\n",
    "P = [2, 5, 10, 6]\n",
    "print(P)"
   ]
  },
  {
   "cell_type": "code",
   "execution_count": 35,
   "metadata": {},
   "outputs": [
    {
     "name": "stdout",
     "output_type": "stream",
     "text": [
      "(3, 10)\n"
     ]
    }
   ],
   "source": [
    "def find_multiples_of_2_not_4(P):\n",
    "    multiples_of_2_not_4 = []\n",
    "    for item in P:\n",
    "        try:\n",
    "            num = int(item)  \n",
    "            if num % 2 == 0 and num % 4 != 0:\n",
    "                multiples_of_2_not_4.append(num)\n",
    "        except (ValueError, TypeError):\n",
    "            pass  \n",
    "\n",
    "    count = len(multiples_of_2_not_4)\n",
    "    if count > 0:\n",
    "        max_multiple = max(multiples_of_2_not_4)\n",
    "        return count, max_multiple\n",
    "    else:\n",
    "        return 0, None\n",
    "\n",
    "print(find_multiples_of_2_not_4(P))    "
   ]
  }
 ],
 "metadata": {
  "kernelspec": {
   "display_name": "Python 3",
   "language": "python",
   "name": "python3"
  },
  "language_info": {
   "codemirror_mode": {
    "name": "ipython",
    "version": 3
   },
   "file_extension": ".py",
   "mimetype": "text/x-python",
   "name": "python",
   "nbconvert_exporter": "python",
   "pygments_lexer": "ipython3",
   "version": "3.11.9"
  }
 },
 "nbformat": 4,
 "nbformat_minor": 2
}
