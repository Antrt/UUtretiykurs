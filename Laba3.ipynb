{
  "nbformat": 4,
  "nbformat_minor": 0,
  "metadata": {
    "colab": {
      "provenance": [],
      "authorship_tag": "ABX9TyNcE1LdGZO0LqHWssINYi5S",
      "include_colab_link": true
    },
    "kernelspec": {
      "name": "python3",
      "display_name": "Python 3"
    },
    "language_info": {
      "name": "python"
    }
  },
  "cells": [
    {
      "cell_type": "markdown",
      "metadata": {
        "id": "view-in-github",
        "colab_type": "text"
      },
      "source": [
        "<a href=\"https://colab.research.google.com/github/Antrt/UUtretiykurs/blob/main/Laba3.ipynb\" target=\"_parent\"><img src=\"https://colab.research.google.com/assets/colab-badge.svg\" alt=\"Open In Colab\"/></a>"
      ]
    },
    {
      "cell_type": "markdown",
      "source": [
        "Практическая работа 3. Обработка данных из файла"
      ],
      "metadata": {
        "id": "-_n9ABdXQXTa"
      }
    },
    {
      "cell_type": "markdown",
      "source": [
        "Попов Антон Андреевич ПИН-б-о-22-1 09.03.03 Прикладная информатика"
      ],
      "metadata": {
        "id": "jHqYEO-lQi9V"
      }
    },
    {
      "cell_type": "markdown",
      "source": [
        "Цель работы: научиться обрабатывать данные из текстового файла. Задачи лабораторной работы: – научиться считывать символьные строки из файла; – научиться преобразовывать строковые данные к прочим типа данных; – научиться решать прикладные задачи с использованием простых скриптов."
      ],
      "metadata": {
        "id": "ANqDfqgkQqSh"
      }
    },
    {
      "cell_type": "code",
      "source": [
        "!wget https://raw.githubusercontent.com/enikolaev/IT-and-Programming/main/data/data_v1.txt"
      ],
      "metadata": {
        "colab": {
          "base_uri": "https://localhost:8080/"
        },
        "id": "KXKknuERQwmY",
        "outputId": "206cc206-529f-4071-dbef-23c664290f3f"
      },
      "execution_count": 4,
      "outputs": [
        {
          "output_type": "stream",
          "name": "stdout",
          "text": [
            "--2024-12-06 14:15:22--  https://raw.githubusercontent.com/enikolaev/IT-and-Programming/main/data/data_v1.txt\n",
            "Resolving raw.githubusercontent.com (raw.githubusercontent.com)... 185.199.110.133, 185.199.108.133, 185.199.109.133, ...\n",
            "Connecting to raw.githubusercontent.com (raw.githubusercontent.com)|185.199.110.133|:443... connected.\n",
            "HTTP request sent, awaiting response... 200 OK\n",
            "Length: 100002 (98K) [text/plain]\n",
            "Saving to: ‘data_v1.txt.1’\n",
            "\n",
            "\rdata_v1.txt.1         0%[                    ]       0  --.-KB/s               \rdata_v1.txt.1       100%[===================>]  97.66K  --.-KB/s    in 0.02s   \n",
            "\n",
            "2024-12-06 14:15:22 (4.07 MB/s) - ‘data_v1.txt.1’ saved [100002/100002]\n",
            "\n"
          ]
        }
      ]
    },
    {
      "cell_type": "code",
      "source": [
        "\n",
        "f=open('data_v1.txt')\n",
        "s=f.read().strip()\n",
        "print(len(s))"
      ],
      "metadata": {
        "colab": {
          "base_uri": "https://localhost:8080/"
        },
        "id": "ETM1J_xMRI9r",
        "outputId": "059a7e0b-c430-46cb-d2c9-64eed6b2c842"
      },
      "execution_count": 5,
      "outputs": [
        {
          "output_type": "stream",
          "name": "stdout",
          "text": [
            "100000\n"
          ]
        }
      ]
    },
    {
      "cell_type": "markdown",
      "source": [
        "![Снимок9.PNG](data:image/png;base64,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)"
      ],
      "metadata": {
        "id": "nm1K_ZS0RMjE"
      }
    },
    {
      "cell_type": "code",
      "source": [
        "longest_subsequence = \"\"\n",
        "current_subsequence = \"\"\n",
        "max_length = 0\n",
        "for char in s:\n",
        "    if char.isdigit() and int(char) % 2 != 0:\n",
        "        current_subsequence += char\n",
        "    else:\n",
        "        if len(current_subsequence) > max_length:\n",
        "            max_length = len(current_subsequence)\n",
        "            longest_subsequence = current_subsequence\n",
        "        current_subsequence = \"\"\n",
        "\n",
        "if len(current_subsequence) > max_length:\n",
        "    longest_subsequence = current_subsequence\n",
        "    max_length = len(current_subsequence)\n",
        "\n",
        "if longest_subsequence:\n",
        "    print(f\"Самая длинная подпоследовательность нечетных цифр: {longest_subsequence}\")\n",
        "    print(f\"Длина: {max_length}\")"
      ],
      "metadata": {
        "colab": {
          "base_uri": "https://localhost:8080/"
        },
        "id": "TTnLj-fnSfYm",
        "outputId": "45b29856-ca8d-4495-8855-9b4f1cc2af34"
      },
      "execution_count": 7,
      "outputs": [
        {
          "output_type": "stream",
          "name": "stdout",
          "text": [
            "Самая длинная подпоследовательность нечетных цифр: 7517\n",
            "Длина: 4\n"
          ]
        }
      ]
    }
  ]
}